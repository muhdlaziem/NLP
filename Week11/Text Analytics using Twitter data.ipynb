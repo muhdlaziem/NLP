{
 "cells": [
  {
   "cell_type": "markdown",
   "metadata": {},
   "source": [
    "## Sentiment Analysis with Tweepy"
   ]
  },
  {
   "cell_type": "code",
   "execution_count": 1,
   "metadata": {},
   "outputs": [],
   "source": [
    "import tweepy\n",
    "import json\n",
    "import re\n",
    "import pandas as pd\n",
    "import matplotlib.pyplot as plt\n",
    "from tweepy import OAuthHandler\n",
    "from tweepy import Stream\n",
    "from tweepy.streaming import StreamListener"
   ]
  },
  {
   "cell_type": "code",
   "execution_count": 2,
   "metadata": {},
   "outputs": [],
   "source": [
    "consumer_key = '8gA5x3emgUhjvN7MFsj0jonba'\n",
    "consumer_secret = '6pdlmM49tuZyjSt9Qg99WtjxCXYOuIOTOKKRgeCBXgbn2sn7Tk '\n",
    "access_token = '822567379-t4oikFBU2Vl1MhIxQqm93Xqp0n6jRKemRoToTKLa '\n",
    "access_secret = 'DOwyUbmVgE7LC6gqAI0XLbCGKwo7qvNP1d59E0h4JGSdX'"
   ]
  },
  {
   "cell_type": "code",
   "execution_count": 3,
   "metadata": {},
   "outputs": [],
   "source": [
    "auth = OAuthHandler(consumer_key,consumer_secret)\n",
    "auth.set_access_token(access_token, access_secret)"
   ]
  },
  {
   "cell_type": "code",
   "execution_count": 4,
   "metadata": {},
   "outputs": [],
   "source": [
    "api = tweepy.API(auth)\n",
    "file = open('hensem.dat','a')"
   ]
  },
  {
   "cell_type": "code",
   "execution_count": 5,
   "metadata": {},
   "outputs": [],
   "source": [
    "class MyListener(StreamListener):\n",
    "    def __init__(self,api=None):\n",
    "        super(StreamListener, self).__init__()\n",
    "        self.num_tweets = 0\n",
    "        \n",
    "    def on_data(self, data):\n",
    "        try:\n",
    "            with open('hensem.dat', 'a') as f:\n",
    "                tweet = json.loads(data)\n",
    "                if tweet[\"lang\"]==\"en\" and tweet[\"user\"][\"location\"]==\"Malaysia\":\n",
    "                    if self.num_tweets < 2000:\n",
    "                        print(json.dumps(tweet[\"text\"], indent=4))\n",
    "                        f.write(tweet[\"text\"])\n",
    "                        f.write(\"\\n\")\n",
    "                        self.num_tweets +=1\n",
    "                        \n",
    "                return true\n",
    "        except BaseException as e:\n",
    "            print(\"Error on_data: %s\" % str(e))\n",
    "        return True\n",
    "    \n",
    "    def on_error(self, status):\n",
    "        print(status)\n",
    "        return True\n",
    "\n",
    "    def on_status(self, status):\n",
    "        if status.retweeted_status:\n",
    "            return\n",
    "        print(status)"
   ]
  },
  {
   "cell_type": "code",
   "execution_count": null,
   "metadata": {},
   "outputs": [
    {
     "name": "stdout",
     "output_type": "stream",
     "text": [
      "401\n",
      "401\n",
      "401\n",
      "401\n"
     ]
    }
   ],
   "source": [
    "mytwitter_stream = Stream(auth, MyListener())\n",
    "\n",
    "mytwitter_stream.filter(track=['#iium', '#pogo', '#blackfriday', '#SyedSaddiq', '#EjenAliTheMovie'])\n",
    "file.close()\n",
    "\n",
    "print('DOne')"
   ]
  },
  {
   "cell_type": "code",
   "execution_count": null,
   "metadata": {},
   "outputs": [],
   "source": []
  }
 ],
 "metadata": {
  "kernelspec": {
   "display_name": "Python 3",
   "language": "python",
   "name": "python3"
  },
  "language_info": {
   "codemirror_mode": {
    "name": "ipython",
    "version": 3
   },
   "file_extension": ".py",
   "mimetype": "text/x-python",
   "name": "python",
   "nbconvert_exporter": "python",
   "pygments_lexer": "ipython3",
   "version": "3.6.9"
  }
 },
 "nbformat": 4,
 "nbformat_minor": 2
}
