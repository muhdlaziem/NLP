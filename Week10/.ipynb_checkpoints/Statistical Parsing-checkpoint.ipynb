{
 "cells": [
  {
   "cell_type": "markdown",
   "metadata": {},
   "source": [
    "## Probabilistic Parsed Trees with NLTK Chart Parser"
   ]
  },
  {
   "cell_type": "code",
   "execution_count": 1,
   "metadata": {},
   "outputs": [],
   "source": [
    "import nltk"
   ]
  },
  {
   "cell_type": "code",
   "execution_count": 2,
   "metadata": {},
   "outputs": [],
   "source": [
    "grammar = nltk.PCFG.fromstring(\"\"\"\n",
    "S -> NP VP [0.8] | Aux NP VP [0.1] | VP[0.1]\n",
    "NP -> Det Nominal [0.6] | Pronoun [0.2] | Proper-Noun [0.2]\n",
    "Nominal -> Noun [0.3] | Nominal Noun [0.2] | Nominal PP [0.5]\n",
    "VP -> Verb [0.3] | Verb NP [0.2] | VP PP [0.5]\n",
    "PP -> Prep NP [1.0]\n",
    "Det -> 'the' [0.6] | 'a' [0.2] | 'that' [0.1] | 'is' [0.1]\n",
    "Verb -> 'book' [0.5] | 'include' [0.2] | 'prefer' [0.3]\n",
    "Noun -> 'book' [0.1] | 'flight' [0.5] | 'meal' [0.2] | 'money' [0.2]\n",
    "Proper-Noun -> 'Houston' [0.8] | 'NWA' [0.2]\n",
    "Prep -> 'from' [0.25] | 'to' [0.25] | 'near' [0.1] | 'through' [0.2] | 'on' [0.2]\n",
    "\"\"\")"
   ]
  },
  {
   "cell_type": "code",
   "execution_count": 3,
   "metadata": {},
   "outputs": [
    {
     "name": "stdout",
     "output_type": "stream",
     "text": [
      "Grammar with 31 productions (start state = S)\n",
      "    S -> NP VP [0.8]\n",
      "    S -> Aux NP VP [0.1]\n",
      "    S -> VP [0.1]\n",
      "    NP -> Det Nominal [0.6]\n",
      "    NP -> Pronoun [0.2]\n",
      "    NP -> Proper-Noun [0.2]\n",
      "    Nominal -> Noun [0.3]\n",
      "    Nominal -> Nominal Noun [0.2]\n",
      "    Nominal -> Nominal PP [0.5]\n",
      "    VP -> Verb [0.3]\n",
      "    VP -> Verb NP [0.2]\n",
      "    VP -> VP PP [0.5]\n",
      "    PP -> Prep NP [1.0]\n",
      "    Det -> 'the' [0.6]\n",
      "    Det -> 'a' [0.2]\n",
      "    Det -> 'that' [0.1]\n",
      "    Det -> 'is' [0.1]\n",
      "    Verb -> 'book' [0.5]\n",
      "    Verb -> 'include' [0.2]\n",
      "    Verb -> 'prefer' [0.3]\n",
      "    Noun -> 'book' [0.1]\n",
      "    Noun -> 'flight' [0.5]\n",
      "    Noun -> 'meal' [0.2]\n",
      "    Noun -> 'money' [0.2]\n",
      "    Proper-Noun -> 'Houston' [0.8]\n",
      "    Proper-Noun -> 'NWA' [0.2]\n",
      "    Prep -> 'from' [0.25]\n",
      "    Prep -> 'to' [0.25]\n",
      "    Prep -> 'near' [0.1]\n",
      "    Prep -> 'through' [0.2]\n",
      "    Prep -> 'on' [0.2]\n"
     ]
    }
   ],
   "source": [
    "print(grammar)"
   ]
  },
  {
   "cell_type": "code",
   "execution_count": 4,
   "metadata": {},
   "outputs": [],
   "source": [
    "from nltk.parse import pchart\n",
    "parser = pchart.InsideChartParser(grammar)"
   ]
  },
  {
   "cell_type": "code",
   "execution_count": 5,
   "metadata": {},
   "outputs": [],
   "source": [
    "sent = 'book the flight through Houston'"
   ]
  },
  {
   "cell_type": "code",
   "execution_count": 6,
   "metadata": {},
   "outputs": [],
   "source": [
    "trees = parser.parse(sent.split())"
   ]
  },
  {
   "cell_type": "code",
   "execution_count": 7,
   "metadata": {},
   "outputs": [
    {
     "name": "stdout",
     "output_type": "stream",
     "text": [
      "(S\n",
      "  (VP\n",
      "    (Verb book)\n",
      "    (NP\n",
      "      (Det the)\n",
      "      (Nominal\n",
      "        (Nominal (Noun flight))\n",
      "        (PP (Prep through) (NP (Proper-Noun Houston))))))) (p=8.64e-06)\n",
      "(S\n",
      "  (VP\n",
      "    (VP (Verb book) (NP (Det the) (Nominal (Noun flight))))\n",
      "    (PP (Prep through) (NP (Proper-Noun Houston))))) (p=8.64e-06)\n"
     ]
    }
   ],
   "source": [
    "for t in trees:\n",
    "    print(t)"
   ]
  },
  {
   "cell_type": "markdown",
   "metadata": {},
   "source": [
    "## PCFG Grammar & Bracketed Trees"
   ]
  },
  {
   "cell_type": "code",
   "execution_count": 8,
   "metadata": {},
   "outputs": [],
   "source": [
    "from nltk.draw.tree import draw_trees\n",
    "from nltk.parse import pchart"
   ]
  },
  {
   "cell_type": "code",
   "execution_count": 9,
   "metadata": {},
   "outputs": [],
   "source": [
    "for t in trees:\n",
    "    draw_trees(t)"
   ]
  },
  {
   "cell_type": "code",
   "execution_count": 13,
   "metadata": {},
   "outputs": [
    {
     "data": {
      "text/plain": [
       "<tkinter.Tk object .>"
      ]
     },
     "execution_count": 13,
     "metadata": {},
     "output_type": "execute_result"
    }
   ],
   "source": [
    "import tkinter\n",
    "tkinter.Tk()"
   ]
  },
  {
   "cell_type": "code",
   "execution_count": null,
   "metadata": {},
   "outputs": [],
   "source": []
  },
  {
   "cell_type": "code",
   "execution_count": null,
   "metadata": {},
   "outputs": [],
   "source": []
  }
 ],
 "metadata": {
  "kernelspec": {
   "display_name": "Python 3",
   "language": "python",
   "name": "python3"
  },
  "language_info": {
   "codemirror_mode": {
    "name": "ipython",
    "version": 3
   },
   "file_extension": ".py",
   "mimetype": "text/x-python",
   "name": "python",
   "nbconvert_exporter": "python",
   "pygments_lexer": "ipython3",
   "version": "3.6.8"
  }
 },
 "nbformat": 4,
 "nbformat_minor": 2
}
