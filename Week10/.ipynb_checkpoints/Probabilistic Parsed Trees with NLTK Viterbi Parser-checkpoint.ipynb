{
 "cells": [
  {
   "cell_type": "markdown",
   "metadata": {},
   "source": [
    "## Probabilistic Parsed Trees with NLTK Viterbi Parser"
   ]
  },
  {
   "cell_type": "code",
   "execution_count": 1,
   "metadata": {},
   "outputs": [],
   "source": [
    "import nltk"
   ]
  },
  {
   "cell_type": "code",
   "execution_count": 2,
   "metadata": {},
   "outputs": [],
   "source": [
    "grammar = nltk.PCFG.fromstring(\"\"\"\n",
    "S -> NP VP [0.9] | VP [0.1]\n",
    "NP -> Det A N [0.1] | NP PP [0.3] | PropN [0.2] | Det [0.1] | Det PropN [0.3]\n",
    "A -> ε [0.6] | Adj A  [0.4]\n",
    "PP -> Prep NP [1.0]\n",
    "VP -> VP NP [0.1] | VP PP [0.3] | VP V [0.3] | V NP PP [0.3]\n",
    "Det -> 'the' [0.6] | 'a' [0.2] | 'that' [0.1] | 'is' [0.1]\n",
    "Prep -> 'from' [0.25] | 'to' [0.25] | 'near' [0.1] | 'through' [0.15] | 'on' [0.15] | 'in' [0.1]\n",
    "Adj -> 'handsome' [0.3] | 'gorgeous' [0.3] | 'pretty' [0.4]\n",
    "PropN -> 'John' [0.3] | 'horse' [0.4] | 'stable' [0.3]\n",
    "V -> 'liked' [0.5] | 'disliked' [0.5]\n",
    "\"\"\")"
   ]
  },
  {
   "cell_type": "code",
   "execution_count": 3,
   "metadata": {},
   "outputs": [],
   "source": [
    "# from nltk.parse import pchart\n",
    "# parser = pchart.InsideChartParser(grammar)\n",
    "parser = nltk.ViterbiParser(grammar)"
   ]
  },
  {
   "cell_type": "code",
   "execution_count": 4,
   "metadata": {},
   "outputs": [
    {
     "name": "stdout",
     "output_type": "stream",
     "text": [
      "Grammar with 32 productions (start state = S)\n",
      "    S -> NP VP [0.9]\n",
      "    S -> VP [0.1]\n",
      "    NP -> Det A N [0.1]\n",
      "    NP -> NP PP [0.3]\n",
      "    NP -> PropN [0.2]\n",
      "    NP -> Det [0.1]\n",
      "    NP -> Det PropN [0.3]\n",
      "    A -> ε [0.6]\n",
      "    A -> Adj A [0.4]\n",
      "    PP -> Prep NP [1.0]\n",
      "    VP -> VP NP [0.1]\n",
      "    VP -> VP PP [0.3]\n",
      "    VP -> VP V [0.3]\n",
      "    VP -> V NP PP [0.3]\n",
      "    Det -> 'the' [0.6]\n",
      "    Det -> 'a' [0.2]\n",
      "    Det -> 'that' [0.1]\n",
      "    Det -> 'is' [0.1]\n",
      "    Prep -> 'from' [0.25]\n",
      "    Prep -> 'to' [0.25]\n",
      "    Prep -> 'near' [0.1]\n",
      "    Prep -> 'through' [0.15]\n",
      "    Prep -> 'on' [0.15]\n",
      "    Prep -> 'in' [0.1]\n",
      "    Adj -> 'handsome' [0.3]\n",
      "    Adj -> 'gorgeous' [0.3]\n",
      "    Adj -> 'pretty' [0.4]\n",
      "    PropN -> 'John' [0.3]\n",
      "    PropN -> 'horse' [0.4]\n",
      "    PropN -> 'stable' [0.3]\n",
      "    V -> 'liked' [0.5]\n",
      "    V -> 'disliked' [0.5]\n"
     ]
    }
   ],
   "source": [
    "print(grammar)"
   ]
  },
  {
   "cell_type": "code",
   "execution_count": 5,
   "metadata": {},
   "outputs": [],
   "source": [
    "sent = 'John liked the horse in the stable'"
   ]
  },
  {
   "cell_type": "code",
   "execution_count": 6,
   "metadata": {},
   "outputs": [],
   "source": [
    "trees = parser.parse(sent.split())"
   ]
  },
  {
   "cell_type": "code",
   "execution_count": 7,
   "metadata": {},
   "outputs": [
    {
     "name": "stdout",
     "output_type": "stream",
     "text": [
      "(S\n",
      "  (NP (PropN John))\n",
      "  (VP\n",
      "    (V liked)\n",
      "    (NP (Det the) (PropN horse))\n",
      "    (PP (Prep in) (NP (Det the) (PropN stable))))) (p=3.14928e-06)\n"
     ]
    }
   ],
   "source": [
    "for i in parser.parse(sent.split()):\n",
    "    print(i)"
   ]
  },
  {
   "cell_type": "code",
   "execution_count": 8,
   "metadata": {},
   "outputs": [],
   "source": [
    "from nltk.draw.tree import draw_trees\n",
    "from nltk.parse import pchart\n",
    "for i in trees:\n",
    "    draw_trees(i)"
   ]
  }
 ],
 "metadata": {
  "kernelspec": {
   "display_name": "Python 3",
   "language": "python",
   "name": "python3"
  },
  "language_info": {
   "codemirror_mode": {
    "name": "ipython",
    "version": 3
   },
   "file_extension": ".py",
   "mimetype": "text/x-python",
   "name": "python",
   "nbconvert_exporter": "python",
   "pygments_lexer": "ipython3",
   "version": "3.6.8"
  }
 },
 "nbformat": 4,
 "nbformat_minor": 2
}
