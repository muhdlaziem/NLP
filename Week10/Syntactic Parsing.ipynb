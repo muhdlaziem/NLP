{
 "cells": [
  {
   "cell_type": "markdown",
   "metadata": {},
   "source": [
    "## Parsing with NLTK"
   ]
  },
  {
   "cell_type": "code",
   "execution_count": 1,
   "metadata": {},
   "outputs": [],
   "source": [
    "import nltk"
   ]
  },
  {
   "cell_type": "code",
   "execution_count": 2,
   "metadata": {},
   "outputs": [],
   "source": [
    "grammar = nltk.CFG.fromstring(\"\"\"\n",
    "S -> NP VP\n",
    "PP -> P NP\n",
    "NP -> Det N | Det N PP | 'I'\n",
    "VP -> V NP | VP PP\n",
    "Det -> 'an' | 'my' | 'the' \n",
    "N -> 'elephant' | 'pajamas' | 'station'\n",
    "V -> 'shot'\n",
    "P -> 'in' | 'at'\n",
    "\"\"\")"
   ]
  },
  {
   "cell_type": "code",
   "execution_count": 3,
   "metadata": {},
   "outputs": [],
   "source": [
    "sent = ['I', 'shot', 'an', 'elephant', 'in', 'my', 'pajamas']\n",
    "parser = nltk.ChartParser(grammar)"
   ]
  },
  {
   "cell_type": "code",
   "execution_count": 4,
   "metadata": {
    "scrolled": false
   },
   "outputs": [
    {
     "name": "stdout",
     "output_type": "stream",
     "text": [
      "(S\n",
      "  (NP I)\n",
      "  (VP\n",
      "    (VP (V shot) (NP (Det an) (N elephant)))\n",
      "    (PP (P in) (NP (Det my) (N pajamas)))))\n",
      "(S\n",
      "  (NP I)\n",
      "  (VP\n",
      "    (V shot)\n",
      "    (NP (Det an) (N elephant) (PP (P in) (NP (Det my) (N pajamas))))))\n"
     ]
    }
   ],
   "source": [
    "for tree in parser.parse(sent):\n",
    "    print(tree)"
   ]
  },
  {
   "cell_type": "markdown",
   "metadata": {},
   "source": [
    "## Exercise"
   ]
  },
  {
   "cell_type": "code",
   "execution_count": 5,
   "metadata": {},
   "outputs": [],
   "source": [
    "grammar1 = nltk.CFG.fromstring(\"\"\"\n",
    "S ->  VP VP\n",
    "NP ->  N\n",
    "VP ->  V VP | V | NP VP | AP\n",
    "AP -> ADJ | VP ADJ\n",
    "N -> 'animals'\n",
    "V ->  'Fighting' | 'could' | 'be'\n",
    "ADJ ->  'dangerous'\n",
    "\"\"\")"
   ]
  },
  {
   "cell_type": "code",
   "execution_count": 6,
   "metadata": {},
   "outputs": [],
   "source": [
    "sent1 = 'Fighting animals could be dangerous'\n",
    "sent1 = sent1.split()\n",
    "parser = nltk.ChartParser(grammar1)"
   ]
  },
  {
   "cell_type": "code",
   "execution_count": 7,
   "metadata": {},
   "outputs": [
    {
     "name": "stdout",
     "output_type": "stream",
     "text": [
      "(S\n",
      "  (VP (V Fighting))\n",
      "  (VP\n",
      "    (AP\n",
      "      (VP (NP (N animals)) (VP (V could) (VP (V be))))\n",
      "      (ADJ dangerous))))\n",
      "(S\n",
      "  (VP (V Fighting))\n",
      "  (VP\n",
      "    (NP (N animals))\n",
      "    (VP (AP (VP (V could) (VP (V be))) (ADJ dangerous)))))\n",
      "(S\n",
      "  (VP (V Fighting))\n",
      "  (VP\n",
      "    (NP (N animals))\n",
      "    (VP (V could) (VP (AP (VP (V be)) (ADJ dangerous))))))\n",
      "(S\n",
      "  (VP (V Fighting))\n",
      "  (VP\n",
      "    (NP (N animals))\n",
      "    (VP (V could) (VP (V be) (VP (AP (ADJ dangerous)))))))\n",
      "(S\n",
      "  (VP (V Fighting) (VP (NP (N animals)) (VP (V could))))\n",
      "  (VP (AP (VP (V be)) (ADJ dangerous))))\n",
      "(S\n",
      "  (VP (V Fighting) (VP (NP (N animals)) (VP (V could) (VP (V be)))))\n",
      "  (VP (AP (ADJ dangerous))))\n",
      "(S\n",
      "  (VP (V Fighting) (VP (NP (N animals)) (VP (V could))))\n",
      "  (VP (V be) (VP (AP (ADJ dangerous)))))\n"
     ]
    }
   ],
   "source": [
    "for tree in parser.parse(sent1):\n",
    "    print(tree)"
   ]
  },
  {
   "cell_type": "code",
   "execution_count": 8,
   "metadata": {},
   "outputs": [
    {
     "data": {
      "text/plain": [
       "['I', 'shot', 'an', 'elephant', 'in', 'my', 'pajamas']"
      ]
     },
     "execution_count": 8,
     "metadata": {},
     "output_type": "execute_result"
    }
   ],
   "source": [
    "sent"
   ]
  },
  {
   "cell_type": "code",
   "execution_count": 9,
   "metadata": {},
   "outputs": [],
   "source": [
    "grammar2 = nltk.CFG.fromstring(\"\"\"\n",
    "S -> VP VP\n",
    "NP -> Det N | Det N PP | 'I'\n",
    "VP -> V N | VP AP | V V\n",
    "AP -> ADJ\n",
    "N -> 'relatives'\n",
    "V -> 'Visiting' | 'can' | 'be'\n",
    "ADJ -> 'tiresome'\n",
    "\"\"\")"
   ]
  },
  {
   "cell_type": "code",
   "execution_count": 10,
   "metadata": {},
   "outputs": [],
   "source": [
    "sent2 = 'Visiting relatives can be tiresome'\n",
    "sent2 = sent2.split()\n",
    "parser = nltk.ChartParser(grammar2)"
   ]
  },
  {
   "cell_type": "code",
   "execution_count": 11,
   "metadata": {},
   "outputs": [
    {
     "name": "stdout",
     "output_type": "stream",
     "text": [
      "(S\n",
      "  (VP (V Visiting) (N relatives))\n",
      "  (VP (VP (V can) (V be)) (AP (ADJ tiresome))))\n"
     ]
    }
   ],
   "source": [
    "for tree in parser.parse(sent2):\n",
    "    print(tree)"
   ]
  },
  {
   "cell_type": "code",
   "execution_count": null,
   "metadata": {},
   "outputs": [],
   "source": []
  }
 ],
 "metadata": {
  "kernelspec": {
   "display_name": "Python 3",
   "language": "python",
   "name": "python3"
  },
  "language_info": {
   "codemirror_mode": {
    "name": "ipython",
    "version": 3
   },
   "file_extension": ".py",
   "mimetype": "text/x-python",
   "name": "python",
   "nbconvert_exporter": "python",
   "pygments_lexer": "ipython3",
   "version": "3.6.8"
  }
 },
 "nbformat": 4,
 "nbformat_minor": 2
}
