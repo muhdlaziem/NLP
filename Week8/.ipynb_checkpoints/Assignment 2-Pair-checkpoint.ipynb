{
 "cells": [
  {
   "cell_type": "code",
   "execution_count": 1,
   "metadata": {},
   "outputs": [],
   "source": [
    "import nltk\n",
    "import string\n",
    "import math\n",
    "import os\n",
    "from collections import Counter\n",
    "from nltk.stem.porter import PorterStemmer\n",
    "from nltk.corpus import stopwords\n",
    "from sklearn.feature_extraction.text import TfidfVectorizer\n",
    "from sklearn.cluster import KMeans\n",
    "from sklearn.metrics import adjusted_rand_score\n",
    "from collections import defaultdict "
   ]
  },
  {
   "cell_type": "code",
   "execution_count": 2,
   "metadata": {},
   "outputs": [],
   "source": [
    "path = '/home/muhdlaziem/Workspace/NLP/Week8/article'\n",
    "token_dict ={}\n",
    "stemmer = PorterStemmer()\n",
    "\n",
    "def stem_tokens(tokens, stemmer):\n",
    "    stemmed = []\n",
    "    for item in tokens:\n",
    "        stemmed.append(stemmer.stem(item))\n",
    "    return stemmed"
   ]
  },
  {
   "cell_type": "code",
   "execution_count": 3,
   "metadata": {},
   "outputs": [
    {
     "name": "stdout",
     "output_type": "stream",
     "text": [
      "/home/muhdlaziem/Workspace/NLP/Week8/article/art1.dat\n",
      "/home/muhdlaziem/Workspace/NLP/Week8/article/art3.dat\n",
      "/home/muhdlaziem/Workspace/NLP/Week8/article/art4.dat\n",
      "/home/muhdlaziem/Workspace/NLP/Week8/article/art2.dat\n",
      "/home/muhdlaziem/Workspace/NLP/Week8/article/art6.dat\n",
      "/home/muhdlaziem/Workspace/NLP/Week8/article/art5.dat\n"
     ]
    }
   ],
   "source": [
    "def tokenize(text):\n",
    "    tokens = nltk.word_tokenize(text)\n",
    "    stems  = stem_tokens(tokens, stemmer)\n",
    "    return stems\n",
    "\n",
    "for subdir, dirs, files in os.walk(path):\n",
    "    for file in files:\n",
    "        file_path =  subdir + os.path.sep + file\n",
    "        print(file_path)\n",
    "        article = open(file_path,'r')\n",
    "        text = article.read()\n",
    "        lowers = text.lower()\n",
    "        no_punctuation = lowers.translate(string.punctuation)\n",
    "        token_dict[file] = no_punctuation"
   ]
  },
  {
   "cell_type": "code",
   "execution_count": 4,
   "metadata": {},
   "outputs": [],
   "source": [
    "tfidf = TfidfVectorizer(tokenizer=tokenize, stop_words=['english'])\n",
    "tfs = tfidf.fit_transform((token_dict.values()))"
   ]
  },
  {
   "cell_type": "code",
   "execution_count": 5,
   "metadata": {
    "scrolled": true
   },
   "outputs": [
    {
     "name": "stdout",
     "output_type": "stream",
     "text": [
      "            art1.dat  art3.dat  art4.dat  art2.dat  art6.dat  art5.dat\n",
      "$           0.000000  0.000000       0.0  0.241775  0.000000  0.000000\n",
      "%           0.242364  0.000000       0.0  0.000000  0.000000  0.000000\n",
      "''          0.000000  0.000000       0.0  0.000000  0.053996  0.107424\n",
      "'s          0.000000  0.173227       0.0  0.055795  0.000000  0.136042\n",
      "+bloomberg  0.080788  0.000000       0.0  0.000000  0.000000  0.000000\n",
      "...              ...       ...       ...       ...       ...       ...\n",
      "year        0.000000  0.000000       0.0  0.161183  0.000000  0.000000\n",
      "yen         0.000000  0.062554       0.0  0.000000  0.000000  0.000000\n",
      "ying        0.000000  0.062554       0.0  0.000000  0.000000  0.000000\n",
      "yoo         0.000000  0.062554       0.0  0.000000  0.000000  0.000000\n",
      "you         0.000000  0.000000       0.0  0.000000  0.000000  0.131003\n",
      "\n",
      "[511 rows x 6 columns]\n"
     ]
    }
   ],
   "source": [
    "feature_names = tfidf.get_feature_names()\n",
    "corpus_index = [n for n in token_dict]\n",
    "import pandas as pd\n",
    "df = pd.DataFrame(tfs.T.todense(), index=feature_names, columns=corpus_index)\n",
    "\n",
    "print(df)"
   ]
  },
  {
   "cell_type": "markdown",
   "metadata": {},
   "source": [
    "## Results"
   ]
  },
  {
   "cell_type": "code",
   "execution_count": 6,
   "metadata": {},
   "outputs": [
    {
     "name": "stdout",
     "output_type": "stream",
     "text": [
      "game\n",
      "\n",
      "art1.dat    0.000000\n",
      "art3.dat    0.102590\n",
      "art4.dat    0.131752\n",
      "art2.dat    0.000000\n",
      "art6.dat    0.000000\n",
      "art5.dat    0.000000\n",
      "Name: game, dtype: float64\n",
      "\n",
      "\n",
      "kill\n",
      "\n",
      "art1.dat    0.000000\n",
      "art3.dat    0.000000\n",
      "art4.dat    0.000000\n",
      "art2.dat    0.000000\n",
      "art6.dat    0.263389\n",
      "art5.dat    0.000000\n",
      "Name: kill, dtype: float64\n",
      "\n",
      "\n",
      "ringgit\n",
      "\n",
      "art1.dat    0.242364\n",
      "art3.dat    0.000000\n",
      "art4.dat    0.000000\n",
      "art2.dat    0.000000\n",
      "art6.dat    0.000000\n",
      "art5.dat    0.000000\n",
      "Name: ringgit, dtype: float64\n",
      "\n",
      "\n",
      "trade\n",
      "\n",
      "art1.dat    0.132495\n",
      "art3.dat    0.000000\n",
      "art4.dat    0.000000\n",
      "art2.dat    0.264345\n",
      "art6.dat    0.000000\n",
      "art5.dat    0.000000\n",
      "Name: trade, dtype: float64\n",
      "\n",
      "\n",
      "win\n",
      "\n",
      "art1.dat    0.000000\n",
      "art3.dat    0.043307\n",
      "art4.dat    0.055617\n",
      "art2.dat    0.000000\n",
      "art6.dat    0.000000\n",
      "art5.dat    0.045347\n",
      "Name: win, dtype: float64\n",
      "\n",
      "\n"
     ]
    }
   ],
   "source": [
    "arr = pd.DataFrame()\n",
    "strings = ['win','ringgit','trade','game','kill']\n",
    "for i in df.index:\n",
    "    if i in strings:\n",
    "        print(i +'\\n')\n",
    "        print(df.loc[i])\n",
    "#         arr.append(df.loc[i])\n",
    "        print('\\n')"
   ]
  },
  {
   "cell_type": "code",
   "execution_count": null,
   "metadata": {},
   "outputs": [],
   "source": []
  }
 ],
 "metadata": {
  "kernelspec": {
   "display_name": "Python 3",
   "language": "python",
   "name": "python3"
  },
  "language_info": {
   "codemirror_mode": {
    "name": "ipython",
    "version": 3
   },
   "file_extension": ".py",
   "mimetype": "text/x-python",
   "name": "python",
   "nbconvert_exporter": "python",
   "pygments_lexer": "ipython3",
   "version": "3.6.8"
  }
 },
 "nbformat": 4,
 "nbformat_minor": 2
}
