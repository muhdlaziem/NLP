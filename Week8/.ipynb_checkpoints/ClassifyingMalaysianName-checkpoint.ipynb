{
 "cells": [
  {
   "cell_type": "code",
   "execution_count": 1,
   "metadata": {},
   "outputs": [],
   "source": [
    "def gender_feature(word):\n",
    "    return{'name': word[-1:]}"
   ]
  },
  {
   "cell_type": "code",
   "execution_count": 2,
   "metadata": {},
   "outputs": [],
   "source": [
    "# def gender_feature(word):\n",
    "#     if \"bin\" in word:\n",
    "#         return {'name': word}\n",
    "#     elif \"binti\" in word:\n",
    "#         return {'name': word}"
   ]
  },
  {
   "cell_type": "code",
   "execution_count": 3,
   "metadata": {},
   "outputs": [
    {
     "data": {
      "text/plain": [
       "{'name': 'k'}"
      ]
     },
     "execution_count": 3,
     "metadata": {},
     "output_type": "execute_result"
    }
   ],
   "source": [
    "gender_feature('sadfd bin asfkhdjk')"
   ]
  },
  {
   "cell_type": "code",
   "execution_count": 4,
   "metadata": {},
   "outputs": [],
   "source": [
    "import nltk"
   ]
  },
  {
   "cell_type": "code",
   "execution_count": 5,
   "metadata": {},
   "outputs": [],
   "source": [
    "from nltk.corpus import names\n",
    "labeled_names = ([(name,'male') for name in names.words('male.txt')] +\n",
    "                [(name,'female') for name in names.words('female.txt')])\n",
    "import random\n",
    "random.shuffle(labeled_names)"
   ]
  },
  {
   "cell_type": "code",
   "execution_count": 6,
   "metadata": {},
   "outputs": [],
   "source": [
    "import pandas as pd\n",
    "data = pd.read_csv('names.csv')"
   ]
  },
  {
   "cell_type": "code",
   "execution_count": 7,
   "metadata": {},
   "outputs": [],
   "source": [
    "for i in range(len(data)):\n",
    "    idx = data['name'][i].find('bin')\n",
    "    data['name'][i] = data['name'][i][:idx-1]"
   ]
  },
  {
   "cell_type": "code",
   "execution_count": 8,
   "metadata": {},
   "outputs": [],
   "source": [
    "data = data.values.tolist()\n",
    "random.shuffle(data)"
   ]
  },
  {
   "cell_type": "code",
   "execution_count": 9,
   "metadata": {},
   "outputs": [
    {
     "data": {
      "text/plain": [
       "[['Mawzoona', 'female'],\n",
       " ['Johan', 'male'],\n",
       " ['Tijah', 'female'],\n",
       " ['Nilam', 'female'],\n",
       " ['Rayyaan', 'male'],\n",
       " ['Shabeeba', 'female'],\n",
       " ['Dewi', 'female'],\n",
       " ['Mayang Sari', 'female'],\n",
       " ['Shaddaad', 'male'],\n",
       " ['Embun', 'female'],\n",
       " ['Bagus', 'male'],\n",
       " ['Ghaidaa', 'female'],\n",
       " ['Nirmala', 'female'],\n",
       " ['Tuah', 'male'],\n",
       " ['Mail', 'male'],\n",
       " ['Sumbula', 'female'],\n",
       " ['Zubaida', 'female'],\n",
       " ['Putera', 'male'],\n",
       " ['Aishah Nabilah', 'female'],\n",
       " ['Furqaan', 'male'],\n",
       " ['Ishak', 'male'],\n",
       " ['Adiputri', 'female'],\n",
       " ['Rihaab', 'female'],\n",
       " ['Elyas', 'male'],\n",
       " ['Abdul Hakeem', 'male'],\n",
       " ['Ubaida', 'male'],\n",
       " ['Sagari', 'male'],\n",
       " ['Mawhiba', 'female'],\n",
       " ['Abdul Jabbaar', 'male'],\n",
       " ['Cempaka', 'female'],\n",
       " ['Fikri', 'male'],\n",
       " ['Aakif', 'male'],\n",
       " ['Taufan', 'male'],\n",
       " ['Hiba', 'female'],\n",
       " ['Dhareef', 'male'],\n",
       " ['Mahdhoodha', 'female'],\n",
       " ['Khaira', 'female'],\n",
       " ['Mat', 'male'],\n",
       " ['Hamdi', 'male'],\n",
       " ['Waheeda', 'female'],\n",
       " ['Zufar', 'male'],\n",
       " ['Yoosuf', 'male'],\n",
       " ['Bujang', 'male'],\n",
       " ['Pertiwi', 'female'],\n",
       " ['Nilam', 'female'],\n",
       " ['Zakaria', 'male'],\n",
       " ['Hishma', 'female'],\n",
       " ['Saood', 'male'],\n",
       " ['Deris', 'male'],\n",
       " ['Noori', 'male'],\n",
       " ['Afeefa', 'female'],\n",
       " ['Minah', 'female'],\n",
       " ['Tempawi', 'male'],\n",
       " ['Aisyah', 'female'],\n",
       " ['Lokman', 'male'],\n",
       " ['Munjid', 'male'],\n",
       " ['Awda', 'female'],\n",
       " ['Aishah', 'female'],\n",
       " ['Mubeena', 'female'],\n",
       " ['Aabdeen', 'male'],\n",
       " ['Abdul Hameed', 'male'],\n",
       " ['Muda', 'male'],\n",
       " ['Turki', 'male'],\n",
       " ['Putera', 'male'],\n",
       " ['Hayati', 'female'],\n",
       " ['Maaiz', 'male'],\n",
       " ['Taufan', 'male'],\n",
       " ['Teh', 'male'],\n",
       " ['Jalaal', 'male'],\n",
       " ['Farhaana', 'female'],\n",
       " ['Mahsuri', 'female'],\n",
       " ['Sagari', 'male'],\n",
       " ['Bulat', 'female'],\n",
       " ['Nahla', 'female'],\n",
       " ['Burhaan', 'male'],\n",
       " ['Suhail', 'male'],\n",
       " ['Kemuning', 'female'],\n",
       " ['Muhammad Laziem', 'male'],\n",
       " ['Mubeena', 'female'],\n",
       " ['Rayyana', 'female'],\n",
       " ['Jamaal', 'male'],\n",
       " ['Yaacob', 'male'],\n",
       " ['Elyas', 'male'],\n",
       " ['Adi Putra', 'male'],\n",
       " ['Pertiwi', 'female'],\n",
       " ['Masroora', 'female'],\n",
       " ['Katijah', 'female'],\n",
       " ['Isnin', 'male'],\n",
       " ['Melur', 'female'],\n",
       " ['Radiyya', 'female'],\n",
       " ['Jawaad', 'male'],\n",
       " ['Thaamira', 'female'],\n",
       " ['Mas', 'female'],\n",
       " ['Nawaar', 'female'],\n",
       " ['Masroora', 'female'],\n",
       " ['Dayang', 'female'],\n",
       " ['Ayu', 'female'],\n",
       " ['Shaamila', 'female'],\n",
       " ['Adiputri', 'female'],\n",
       " ['Munjid', 'male']]"
      ]
     },
     "execution_count": 9,
     "metadata": {},
     "output_type": "execute_result"
    }
   ],
   "source": [
    "data"
   ]
  },
  {
   "cell_type": "code",
   "execution_count": 10,
   "metadata": {},
   "outputs": [],
   "source": [
    "featuresets = [(gender_feature(n),gender) for (n, gender) in data]\n",
    "train_set, test_set =featuresets[80:],featuresets[:20]\n",
    "classifier = nltk.NaiveBayesClassifier.train(train_set)"
   ]
  },
  {
   "cell_type": "code",
   "execution_count": 11,
   "metadata": {},
   "outputs": [
    {
     "data": {
      "text/plain": [
       "'female'"
      ]
     },
     "execution_count": 11,
     "metadata": {},
     "output_type": "execute_result"
    }
   ],
   "source": [
    "classifier.classify(gender_feature('Aishah'))"
   ]
  },
  {
   "cell_type": "code",
   "execution_count": 12,
   "metadata": {},
   "outputs": [
    {
     "data": {
      "text/plain": [
       "'female'"
      ]
     },
     "execution_count": 12,
     "metadata": {},
     "output_type": "execute_result"
    }
   ],
   "source": [
    "classifier.classify(gender_feature('Laziem'))"
   ]
  },
  {
   "cell_type": "code",
   "execution_count": 13,
   "metadata": {},
   "outputs": [
    {
     "name": "stdout",
     "output_type": "stream",
     "text": [
      "0.8\n"
     ]
    }
   ],
   "source": [
    "print(nltk.classify.accuracy(classifier, test_set))"
   ]
  },
  {
   "cell_type": "code",
   "execution_count": 14,
   "metadata": {},
   "outputs": [
    {
     "name": "stdout",
     "output_type": "stream",
     "text": [
      "Most Informative Features\n",
      "                    name = 'a'            female : male   =      2.5 : 1.0\n",
      "                    name = 's'              male : female =      1.5 : 1.0\n"
     ]
    }
   ],
   "source": [
    "classifier.show_most_informative_features(5)"
   ]
  }
 ],
 "metadata": {
  "kernelspec": {
   "display_name": "Python 3",
   "language": "python",
   "name": "python3"
  },
  "language_info": {
   "codemirror_mode": {
    "name": "ipython",
    "version": 3
   },
   "file_extension": ".py",
   "mimetype": "text/x-python",
   "name": "python",
   "nbconvert_exporter": "python",
   "pygments_lexer": "ipython3",
   "version": "3.7.5rc1"
  }
 },
 "nbformat": 4,
 "nbformat_minor": 2
}
