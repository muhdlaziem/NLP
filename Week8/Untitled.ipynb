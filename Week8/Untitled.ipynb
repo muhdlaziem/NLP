{
 "cells": [
  {
   "cell_type": "code",
   "execution_count": 2,
   "metadata": {},
   "outputs": [
    {
     "name": "stdout",
     "output_type": "stream",
     "text": [
      "['Ringgit', 'to', 'strengthen', 'against', 'US', 'dollar.', 'The', 'US', 'dollar-Ringgit', 'exchange', 'rate', 'is', 'forming', 'a', 'death-cross', 'pattern,', 'which', 'in', 'the', 'past', 'has', 'led', 'to', 'a', 'decline', 'in', 'the', 'currency', 'pair,', 'based', 'on', 'technical', 'charts.', 'Bloomberg', 'reported', 'on', 'Wednesday', 'that', 'this', 'death-cross', 'pattern', 'occurs', 'when', 'a', '50-day', 'moving', 'average', 'drops', 'below', 'the', '100-day', 'gauge.', 'It', 'said', 'on', 'the', 'previous', 'three', 'occasions', 'this', 'move', 'took', 'place,', 'the', 'dollar', 'posted', 'additional', 'losses', 'of', '3%,', '3%', 'and', '7%', 'before', 'finding', 'a', 'bottom.', 'The', 'ringgit', 'has', 'underperformed', 'Asian', 'currencies', 'since', 'policy', 'makers', 'took', 'steps', 'in', 'November', 'to', 'deter', 'foreign', 'banks', 'from', 'trading', 'non-deliverable', 'forwards,', 'the', 'wire', 'report', 'said.', 'At', '1.45pm,', 'the', 'ringgit', 'was', 'trading', 'at', '4.4305', 'to', 'the', 'dollar', 'from', 'the', 'previous', 'close', 'of', '4.4312.']\n",
      "{'Ringgit': 1, 'to': 4, 'strengthen': 1, 'against': 1, 'US': 2, 'dollar.': 1, 'The': 2, 'dollar-Ringgit': 1, 'exchange': 1, 'rate': 1, 'is': 1, 'forming': 1, 'a': 4, 'death-cross': 2, 'pattern,': 1, 'which': 1, 'in': 3, 'the': 9, 'past': 1, 'has': 2, 'led': 1, 'decline': 1, 'currency': 1, 'pair,': 1, 'based': 1, 'on': 3, 'technical': 1, 'charts.': 1, 'Bloomberg': 1, 'reported': 1, 'Wednesday': 1, 'that': 1, 'this': 2, 'pattern': 1, 'occurs': 1, 'when': 1, '50-day': 1, 'moving': 1, 'average': 1, 'drops': 1, 'below': 1, '100-day': 1, 'gauge.': 1, 'It': 1, 'said': 1, 'previous': 2, 'three': 1, 'occasions': 1, 'move': 1, 'took': 2, 'place,': 1, 'dollar': 2, 'posted': 1, 'additional': 1, 'losses': 1, 'of': 2, '3%,': 1, '3%': 1, 'and': 1, '7%': 1, 'before': 1, 'finding': 1, 'bottom.': 1, 'ringgit': 2, 'underperformed': 1, 'Asian': 1, 'currencies': 1, 'since': 1, 'policy': 1, 'makers': 1, 'steps': 1, 'November': 1, 'deter': 1, 'foreign': 1, 'banks': 1, 'from': 2, 'trading': 2, 'non-deliverable': 1, 'forwards,': 1, 'wire': 1, 'report': 1, 'said.': 1, 'At': 1, '1.45pm,': 1, 'was': 1, 'at': 1, '4.4305': 1, 'close': 1, '4.4312.': 1}\n"
     ]
    }
   ],
   "source": [
    "fread = open(\"./article/art1.dat\",\"r\")\n",
    "f = fread.read()\n",
    "print(f.split())\n",
    "#words = f.split()\n",
    "#print(words)\n",
    "\n",
    "d ={}\n",
    "for word in f.split():    \n",
    "    if word not in d:\n",
    "        d[word] = 1\n",
    "    else:\n",
    "        d[word] += 1\n",
    "\n",
    "print(d)"
   ]
  },
  {
   "cell_type": "code",
   "execution_count": 16,
   "metadata": {},
   "outputs": [
    {
     "data": {
      "text/plain": [
       "205"
      ]
     },
     "execution_count": 16,
     "metadata": {},
     "output_type": "execute_result"
    }
   ],
   "source": [
    "import nltk\n",
    "from nltk.stem.porter import *\n",
    "from collections import Counter\n",
    "from nltk.stem.porter import PorterStemmer\n",
    "\n",
    "fread = open(\"./article/art3.dat\",\"r\")\n",
    "f = fread.read()\n",
    "# token_dict ={}\n",
    "stemmer = PorterStemmer()\n",
    "def stem_tokens(tokens, stemmer):\n",
    "    stemmed = []\n",
    "    for item in tokens:\n",
    "        stemmed.append(stemmer.stem(item))\n",
    "    return stemmed\n",
    "\n",
    "def tokenize(text):\n",
    "    tokens = nltk.word_tokenize(text)\n",
    "    stems  = stem_tokens(tokens, stemmer)\n",
    "    return stems\n",
    "len(tokenize(f))"
   ]
  },
  {
   "cell_type": "code",
   "execution_count": 17,
   "metadata": {},
   "outputs": [
    {
     "data": {
      "text/plain": [
       "205"
      ]
     },
     "execution_count": 17,
     "metadata": {},
     "output_type": "execute_result"
    }
   ],
   "source": [
    "len(tokenize(f))"
   ]
  },
  {
   "cell_type": "code",
   "execution_count": null,
   "metadata": {},
   "outputs": [],
   "source": []
  }
 ],
 "metadata": {
  "kernelspec": {
   "display_name": "Python 3",
   "language": "python",
   "name": "python3"
  },
  "language_info": {
   "codemirror_mode": {
    "name": "ipython",
    "version": 3
   },
   "file_extension": ".py",
   "mimetype": "text/x-python",
   "name": "python",
   "nbconvert_exporter": "python",
   "pygments_lexer": "ipython3",
   "version": "3.6.8"
  }
 },
 "nbformat": 4,
 "nbformat_minor": 2
}
