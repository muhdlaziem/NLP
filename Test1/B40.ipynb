{
 "cells": [
  {
   "cell_type": "markdown",
   "metadata": {},
   "source": [
    "## Now we extract B40 Residents"
   ]
  },
  {
   "cell_type": "code",
   "execution_count": 1,
   "metadata": {},
   "outputs": [
    {
     "data": {
      "text/plain": [
       "'LEOWCHEECHENG\\t791214-03-5158\\t601137298445\\t3999\\nROSYADDAH\\t590630-03-5551\\t60102216937\\t3500\\nMOHDISMAIL\\t550902-02-5917\\t60102250855\\t3900\\nHjJaafarhassan\\t610518-01-5927\\t60102273211\\t2500\\nMaimunahMat\\t570824-10-5003\\t60102355239\\t3990\\nBazlibinKezi\\t770602-01-6917\\t60102414656\\t4000\\nBaity\\t560803-10-5633\\t60102435711\\t3500\\nJamaluddinJantan\\t680719-07-5225\\t60102459259\\t3987\\nMiorAtan\\t 580602-03-5758 \\t60102544657\\t3890\\nAzmiBinAmran\\t740326-01-5100\\t60102546362\\t4000\\nNormahBintiHasan\\t770215-11-5472\\t60102720058\\t3500\\nKhairuddinBinAriffin\\t610422-10-5821\\t60102721591\\t3340\\nJamaliah\\t781115-01-5152\\t60102723056\\t2500\\nRidwan\\t750925-12-5271\\t60102749250\\t3990\\nSamsiah\\t640912-04-5101\\t60102765870\\t4000\\nBaba\\t600708-01-5857\\t60102903971\\t3500\\nSharifah\\t750822-10-7224\\t60102916358\\t3987\\nFuadbinYusuf\\t65021-05-7558\\t60102978779\\t3890\\nHawab\\t811218-10-5681\\t60102998364\\t3879\\nMohdTaharim\\t601220-11-5031\\t60103637507\\t3509\\nKartini\\t550214-03-5003\\t60103691708\\t3340\\nRosni\\t620704-10-5474\\t60104226856\\t2999\\nAbdulHamid\\t801101-06-5226\\t60104287756\\t3999\\nKhalid\\t550603-01-6367\\t60105215605\\t4000\\nHasniati\\t560531-10-5137\\t60107892484\\t3888\\nAliasDesa\\t791007-11-5091\\t60108750211\\t3777\\nSitiAminah\\t550508-09-5001\\t60109125743\\t3879\\nNoraini\\t560627-10-6131\\t601111187155\\t3509\\nNorsiah\\t621124-08-5205\\t601111878376\\t3340\\nIbrahim\\t590212-10-5561\\t601112302487\\t2999\\nTASHARINA\\t670708-03-5050\\t601114222248\\t3567\\nLAWLAI \\t800311-11-5020\\t601114358528\\t3777\\nFIRDAU\\t740303-10-6619\\t601115187996\\t3879\\nISMAIL \\t590212-12-5561\\t601116266743\\t3509\\nNORAFIDAH\\t550902-10-5917\\t601127206852\\t3340\\n'"
      ]
     },
     "execution_count": 1,
     "metadata": {},
     "output_type": "execute_result"
    }
   ],
   "source": [
    "import re    \n",
    "openFile = open('residents.dat','r')\n",
    "text = openFile.read()\n",
    "text"
   ]
  },
  {
   "cell_type": "code",
   "execution_count": 2,
   "metadata": {},
   "outputs": [
    {
     "data": {
      "text/plain": [
       "['MaimunahMat\\t570824-10-5003\\t60102355239\\t3990\\n',\n",
       " 'Baity\\t560803-10-5633\\t60102435711\\t3500\\n',\n",
       " 'KhairuddinBinAriffin\\t610422-10-5821\\t60102721591\\t3340\\n',\n",
       " 'Rosni\\t620704-10-5474\\t60104226856\\t2999\\n',\n",
       " 'Hasniati\\t560531-10-5137\\t60107892484\\t3888\\n',\n",
       " 'Noraini\\t560627-10-6131\\t601111187155\\t3509\\n',\n",
       " 'Ibrahim\\t590212-10-5561\\t601112302487\\t2999\\n',\n",
       " 'NORAFIDAH\\t550902-10-5917\\t601127206852\\t3340\\n']"
      ]
     },
     "execution_count": 2,
     "metadata": {},
     "output_type": "execute_result"
    }
   ],
   "source": [
    "b40dat = re.findall('[a-zA-Z]*[\\s][0-6][0-9][0-9][0-9][0-9][0-9]-10-[0-9]*[\\s][0-9]*[\\s][0-9]*[\\s]',text,re.I)\n",
    "b40dat"
   ]
  },
  {
   "cell_type": "code",
   "execution_count": 3,
   "metadata": {},
   "outputs": [],
   "source": [
    "with open('b40.dat', 'w') as b40:\n",
    "    for i in range(len(b40dat)):\n",
    "        b40.write(b40dat[i])"
   ]
  },
  {
   "cell_type": "code",
   "execution_count": null,
   "metadata": {},
   "outputs": [],
   "source": []
  }
 ],
 "metadata": {
  "kernelspec": {
   "display_name": "Python 3",
   "language": "python",
   "name": "python3"
  },
  "language_info": {
   "codemirror_mode": {
    "name": "ipython",
    "version": 3
   },
   "file_extension": ".py",
   "mimetype": "text/x-python",
   "name": "python",
   "nbconvert_exporter": "python",
   "pygments_lexer": "ipython3",
   "version": "3.6.8"
  }
 },
 "nbformat": 4,
 "nbformat_minor": 2
}
